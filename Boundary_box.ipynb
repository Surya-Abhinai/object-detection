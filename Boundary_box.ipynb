{
  "nbformat": 4,
  "nbformat_minor": 0,
  "metadata": {
    "colab": {
      "provenance": [],
      "authorship_tag": "ABX9TyP/pMUYCPVRfWb0sIuIW90e",
      "include_colab_link": true
    },
    "kernelspec": {
      "name": "python3",
      "display_name": "Python 3"
    },
    "language_info": {
      "name": "python"
    }
  },
  "cells": [
    {
      "cell_type": "markdown",
      "metadata": {
        "id": "view-in-github",
        "colab_type": "text"
      },
      "source": [
        "<a href=\"https://colab.research.google.com/github/Surya-Abhinai/object-detection-/blob/main/Boundary_box.ipynb\" target=\"_parent\"><img src=\"https://colab.research.google.com/assets/colab-badge.svg\" alt=\"Open In Colab\"/></a>"
      ]
    },
    {
      "cell_type": "code",
      "execution_count": 1,
      "metadata": {
        "id": "B4OR9PF1gFsI"
      },
      "outputs": [],
      "source": [
        "from __future__ import division\n",
        "import torch \n",
        "import random \n",
        "import numpy as np\n",
        "import cv2 "
      ]
    },
    {
      "cell_type": "code",
      "source": [
        "def confidence_filter(result, confidence):\n",
        "    # result is a 3D tensor.The first four elements in the last tensor represent x_cor , y_cor of boundary boxes, and it's width and height.\n",
        "    #The fifth element represents the confidence level of the prediction of the boundary box.\n",
        "    confidence_boolean_mask = (result[:,:,4] > confidence).float().unsqueeze(2)\n",
        "\n",
        "    # multiplying result with confidence_boolean_mask tensor.\n",
        "    result = result*confidence_boolean_mask    \n",
        "\n",
        "    return result"
      ],
      "metadata": {
        "id": "QiCHxI9YhNOG"
      },
      "execution_count": 2,
      "outputs": []
    },
    {
      "cell_type": "code",
      "source": [
        "def confidence_filter_class(result, confidence):\n",
        "    #result tensor shape = (batch_size,num_of_anchors,num_classes + 5)\n",
        "\n",
        "    # extract maximum scores for each class and concatenate them with result .\n",
        "    max_scores = torch.max(result[:,:,5:], 2)[0]\n",
        "    res = torch.cat((result, max_scores),2)\n",
        "    \n",
        "    #object confidence score greater than the specified confidence threshold\n",
        "    cond_1 = (res[:,:,4] > confidence).float()\n",
        "    #class-specific confidence score greater than 0.995\n",
        "    cond_2 = (res[:,:,-1] > 0.995).float()\n",
        "    \n",
        "    # combine the two conditions using element-wise addition and clamp the values between 0 and 1\n",
        "    conf = cond_1 + cond_2\n",
        "    conf = torch.clamp(conf, 0.0, 1.0)\n",
        "\n",
        "    # add an extra dimension to the confidence tensor and apply it to the result tensor to filter out low-confidence objects\n",
        "    conf = conf.unsqueeze(2)\n",
        "    result = result*conf   \n",
        "    return result"
      ],
      "metadata": {
        "id": "UGdx4Xzoi2OW"
      },
      "execution_count": 4,
      "outputs": []
    },
    {
      "cell_type": "code",
      "source": [
        "def get_abs_coord(box):\n",
        "    # box = (centre_x_cor , centre_y_cor , width , height)\n",
        "    box[2], box[3] = abs(box[2]), abs(box[3])\n",
        "\n",
        "    # top_left coordinates (x1,y1)\n",
        "    x1 = (box[0] - box[2]/2) - 1\n",
        "    y1 = (box[1] - box[3]/2)  - 1\n",
        "    # bottom_right coordinates (x2,y2)\n",
        "    x2 = (box[0] + box[2]/2)  - 1\n",
        "    y2 = (box[1] + box[3]/2) - 1\n",
        "    return x1, y1, x2, y2"
      ],
      "metadata": {
        "id": "_0qQODODurnR"
      },
      "execution_count": 28,
      "outputs": []
    },
    {
      "cell_type": "code",
      "source": [
        "def sanity_fix(box):\n",
        "    # If x1 > x2 or y1 > y2, it swaps the values so that they are in the correct order.\n",
        "    if (box[0] > box[2]):\n",
        "        box[0], box[2] = box[2], box[0]\n",
        "    \n",
        "    if (box[1] >  box[3]):\n",
        "        box[1], box[3] = box[3], box[1]\n",
        "        \n",
        "    return box"
      ],
      "metadata": {
        "id": "1INuIZ3hxRHL"
      },
      "execution_count": 25,
      "outputs": []
    },
    {
      "cell_type": "code",
      "source": [
        "def bbox_iou(box1, box2):\n",
        "\n",
        "    #Get the coordinates of bounding boxes\n",
        "    b1_x1, b1_y1, b1_x2, b1_y2 = box1[:,0], box1[:,1], box1[:,2], box1[:,3]\n",
        "    b2_x1, b2_y1, b2_x2, b2_y2 = box2[:,0], box2[:,1], box2[:,2], box2[:,3]\n",
        "    \n",
        "    #get the corrdinates of the intersection rectangle\n",
        "    inter_rect_x1 =  torch.max(b1_x1, b2_x1)\n",
        "    inter_rect_y1 =  torch.max(b1_y1, b2_y1)\n",
        "    inter_rect_x2 =  torch.min(b1_x2, b2_x2)\n",
        "    inter_rect_y2 =  torch.min(b1_y2, b2_y2)\n",
        "    \n",
        "    #Intersection area\n",
        "    inter_area = torch.max(inter_rect_x2 - inter_rect_x1 + 1,torch.zeros(inter_rect_x2.shape))*torch.max(inter_rect_y2 - inter_rect_y1 + 1, torch.zeros(inter_rect_x2.shape))\n",
        "    \n",
        "    #Union Area\n",
        "    b1_area = (b1_x2 - b1_x1 + 1)*(b1_y2 - b1_y1 + 1)\n",
        "    b2_area = (b2_x2 - b2_x1 + 1)*(b2_y2 - b2_y1 + 1)\n",
        "    \n",
        "    iou = inter_area / (b1_area + b2_area - inter_area)\n",
        "    \n",
        "    return iou\n"
      ],
      "metadata": {
        "id": "6EwpJ8Yi0I8o"
      },
      "execution_count": 27,
      "outputs": []
    },
    {
      "cell_type": "code",
      "source": [
        "def pred_corner_coord(prediction):\n",
        "    # Get indices of non-zero confidence bboxes\n",
        "    ind_nz = torch.nonzero(prediction[:,:,4]).transpose(0,1).contiguous()\n",
        "    # Extract the boxes with non-zero confidence\n",
        "    box = prediction[ind_nz[0], ind_nz[1]]\n",
        "\n",
        "    # Convert the center-coordinate format to corner-coordinate format\n",
        "    box_a = box.new(box.shape)\n",
        "    box_a[:,0] = (box[:,0] - box[:,2]/2)   # x1 = xc - w/2\n",
        "    box_a[:,1] = (box[:,1] - box[:,3]/2)   # y1 = yc - h/2\n",
        "    box_a[:,2] = (box[:,0] + box[:,2]/2)   # x2 = xc + w/2\n",
        "    box_a[:,3] = (box[:,1] + box[:,3]/2)   # y2 = yc + h/2\n",
        "    box[:,:4] = box_a[:,:4]\n",
        "\n",
        "    # Replace the center-coordinate format with the corner-coordinate format\n",
        "    prediction[ind_nz[0], ind_nz[1]] = box\n",
        "\n",
        "    return prediction\n"
      ],
      "metadata": {
        "id": "bSiohxX5_DIa"
      },
      "execution_count": 29,
      "outputs": []
    },
    {
      "cell_type": "code",
      "source": [
        "def write(x, batches, results, colors, classes):\n",
        "    # x[0]: the index of the image in the batch to which the detected object belongs\n",
        "    # x[1]: the x-coordinate of the top-left corner of the bounding box around the object\n",
        "    # x[2]: the y-coordinate of the top-left corner of the bounding box around the object\n",
        "    # x[3]: the x-coordinate of the bottom-right corner of the bounding box around the object\n",
        "    # x[4]: the y-coordinate of the bottom-right corner of the bounding box around the object\n",
        "    # x[5]: the index of the class label of the object\n",
        "    c1 = tuple(x[1:3].int())\n",
        "    c2 = tuple(x[3:5].int())\n",
        "    img = results[int(x[0])]\n",
        "    cls = int(x[-1])\n",
        "    label = \"{0}\".format(classes[cls])\n",
        "    color = random.choice(colors)\n",
        "    cv2.rectangle(img, c1, c2,color, 1)\n",
        "    t_size = cv2.getTextSize(label, cv2.FONT_HERSHEY_PLAIN, 1 , 1)[0]\n",
        "    c2 = c1[0] + t_size[0] + 3, c1[1] + t_size[1] + 4\n",
        "    cv2.rectangle(img, c1, c2,color, -1)\n",
        "    cv2.putText(img, label, (c1[0], c1[1] + t_size[1] + 4), cv2.FONT_HERSHEY_PLAIN, 1, [225,255,255], 1);\n",
        "    return img"
      ],
      "metadata": {
        "id": "SVmYXBnQPBco"
      },
      "execution_count": 31,
      "outputs": []
    }
  ]
}